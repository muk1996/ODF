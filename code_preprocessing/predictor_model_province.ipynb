{
 "cells": [
  {
   "cell_type": "code",
   "execution_count": 5,
   "metadata": {},
   "outputs": [],
   "source": [
    "import pandas as pd \n",
    "import numpy as np"
   ]
  },
  {
   "cell_type": "code",
   "execution_count": 2,
   "metadata": {},
   "outputs": [],
   "source": [
    "def model_province(year, province):\n",
    "    if (province == \"Balochistan\"):\n",
    "        data = pd.read_csv('Balochistan/group/group_Balochistan_'+ str(year) +'.csv')\n",
    "        pop_matrix = data.to_numpy()\n",
    "        matrix = pd.read_csv('Balochistan/final_prob_matrix_Balochistan.csv')\n",
    "        prob_matrix = matrix.to_numpy()\n",
    "        pred_matrix = pop_matrix.dot(prob_matrix)\n",
    "        df = pd.DataFrame(data = pred_matrix.transpose(), columns=[\"Population\"])\n",
    "        df.insert(0, \"Age Bracket\", [\"children\", \"teen\", \"young_adult\", \"adult\", \"senior\"], True)\n",
    "        #df.to_csv('prediction/prediction_2009.csv', index=False)\n",
    "        return df\n",
    "    elif(province == \"NWFP\"):\n",
    "        data = pd.read_csv('NWFP/group/group_NWFP_'+ str(year) +'.csv')\n",
    "        pop_matrix = data.to_numpy()\n",
    "        matrix = pd.read_csv('NWFP/final_prob_matrix_NWFP.csv')\n",
    "        prob_matrix = matrix.to_numpy()\n",
    "        pred_matrix = pop_matrix.dot(prob_matrix)\n",
    "        df = pd.DataFrame(data = pred_matrix.transpose(), columns=[\"Population\"])\n",
    "        df.insert(0, \"Age Bracket\", [\"children\", \"teen\", \"young_adult\", \"adult\", \"senior\"], True)\n",
    "        #df.to_csv('prediction/prediction_2011.csv', index=False)\n",
    "        return df\n",
    "    elif(province == \"Sindh\"):\n",
    "        data = pd.read_csv('Sindh/group/group_Sindh_'+ str(year) +'.csv')\n",
    "        pop_matrix = data.to_numpy()\n",
    "        matrix = pd.read_csv('Sindh/final_prob_matrix_Sindh.csv')\n",
    "        prob_matrix = matrix.to_numpy()\n",
    "        pred_matrix = pop_matrix.dot(prob_matrix)\n",
    "        df = pd.DataFrame(data = pred_matrix.transpose(), columns=[\"Population\"])\n",
    "        df.insert(0, \"Age Bracket\", [\"children\", \"teen\", \"young_adult\", \"adult\", \"senior\"], True)\n",
    "        #df.to_csv('prediction/prediction_2013.csv', index=False)\n",
    "        return df\n",
    "    elif(province == \"Punjab\"):\n",
    "        data = pd.read_csv('Punjab/group/group_Punjab_'+ str(year) +'.csv')\n",
    "        pop_matrix = data.to_numpy()\n",
    "        matrix = pd.read_csv('Punjab/final_prob_matrix_Punjab.csv')\n",
    "        prob_matrix = matrix.to_numpy()\n",
    "        pred_matrix = pop_matrix.dot(prob_matrix)\n",
    "        df = pd.DataFrame(data = pred_matrix.transpose(), columns=[\"Population\"])\n",
    "        df.insert(0, \"Age Bracket\", [\"children\", \"teen\", \"young_adult\", \"adult\", \"senior\"], True)\n",
    "        #df.to_csv('prediction/prediction_2015.csv', index=False)\n",
    "        return df\n",
    "    else:\n",
    "        print(\"dataset not present\")"
   ]
  },
  {
   "cell_type": "code",
   "execution_count": 43,
   "metadata": {},
   "outputs": [
    {
     "data": {
      "text/html": [
       "<div>\n",
       "<style scoped>\n",
       "    .dataframe tbody tr th:only-of-type {\n",
       "        vertical-align: middle;\n",
       "    }\n",
       "\n",
       "    .dataframe tbody tr th {\n",
       "        vertical-align: top;\n",
       "    }\n",
       "\n",
       "    .dataframe thead th {\n",
       "        text-align: right;\n",
       "    }\n",
       "</style>\n",
       "<table border=\"1\" class=\"dataframe\">\n",
       "  <thead>\n",
       "    <tr style=\"text-align: right;\">\n",
       "      <th></th>\n",
       "      <th>Age Bracket</th>\n",
       "      <th>Population</th>\n",
       "    </tr>\n",
       "  </thead>\n",
       "  <tbody>\n",
       "    <tr>\n",
       "      <th>0</th>\n",
       "      <td>children</td>\n",
       "      <td>1.470858e+07</td>\n",
       "    </tr>\n",
       "    <tr>\n",
       "      <th>1</th>\n",
       "      <td>teen</td>\n",
       "      <td>6.769448e+06</td>\n",
       "    </tr>\n",
       "    <tr>\n",
       "      <th>2</th>\n",
       "      <td>young_adult</td>\n",
       "      <td>8.067586e+06</td>\n",
       "    </tr>\n",
       "    <tr>\n",
       "      <th>3</th>\n",
       "      <td>adult</td>\n",
       "      <td>1.346200e+07</td>\n",
       "    </tr>\n",
       "    <tr>\n",
       "      <th>4</th>\n",
       "      <td>senior</td>\n",
       "      <td>1.051551e+06</td>\n",
       "    </tr>\n",
       "  </tbody>\n",
       "</table>\n",
       "</div>"
      ],
      "text/plain": [
       "   Age Bracket    Population\n",
       "0     children  1.470858e+07\n",
       "1         teen  6.769448e+06\n",
       "2  young_adult  8.067586e+06\n",
       "3        adult  1.346200e+07\n",
       "4       senior  1.051551e+06"
      ]
     },
     "execution_count": 43,
     "metadata": {},
     "output_type": "execute_result"
    }
   ],
   "source": [
    "model_province(2015, \"Sindh\")"
   ]
  },
  {
   "cell_type": "code",
   "execution_count": 16,
   "metadata": {},
   "outputs": [],
   "source": [
    "#st.subheader('Use our model to predict Population of National Upto 2023')\n",
    "def select_model_future_pro(option, option1):\n",
    "    if(option == 2019):\n",
    "        data = model_province(2015, option1)\n",
    "        pop_matrix = data.transpose()\n",
    "        new_header = pop_matrix.iloc[0] #grab the first row for the header\n",
    "        pop_matrix = pop_matrix[1:] #take the data less the header row\n",
    "        pop_matrix.columns = new_header\n",
    "        matrix = pd.read_csv(option1+ \"/final_prob_matrix_\" + option1 +\".csv\")\n",
    "        prob_matrix = matrix.to_numpy()\n",
    "        pred_matrix = pop_matrix.dot(prob_matrix)\n",
    "        df = pd.DataFrame(data = pred_matrix.transpose(), columns=[\"Population\"])\n",
    "        df.insert(0, \"Age Bracket\", [\"children\", \"teen\", \"young_adult\", \"adult\", \"senior\"], True)\n",
    "        #df.to_csv('prediction/prediction_2017.csv', index=False)\n",
    "        return df, df.Population.sum()\n",
    "    elif(option == 2021):\n",
    "        a = option1\n",
    "        data = select_model_future_pro((2019, a))[0]\n",
    "        pop_matrix = data.transpose()\n",
    "        new_header = pop_matrix.iloc[0] #grab the first row for the header\n",
    "        pop_matrix = pop_matrix[1:] #take the data less the header row\n",
    "        pop_matrix.columns = new_header\n",
    "        matrix = pd.read_csv(option1+ \"/final_prob_matrix_\" + option1 +\".csv\")\n",
    "        prob_matrix = matrix.to_numpy()\n",
    "        pred_matrix = pop_matrix.dot(prob_matrix)\n",
    "        df = pd.DataFrame(data = pred_matrix.transpose(), columns=[\"Population\"])\n",
    "        df.insert(0, \"Age Bracket\", [\"children\", \"teen\", \"young_adult\", \"adult\", \"senior\"], True)\n",
    "        #df.to_csv('prediction/prediction_2017.csv', index=False)\n",
    "        return df, df.Population.sum()\n",
    "    elif(option == 2023):\n",
    "        data = select_model_future_pro((2021, option1))[0]\n",
    "        pop_matrix = data.transpose()\n",
    "        new_header = pop_matrix.iloc[0] #grab the first row for the header\n",
    "        pop_matrix = pop_matrix[1:] #take the data less the header row\n",
    "        pop_matrix.columns = new_header\n",
    "        matrix = pd.read_csv(option1+ \"/final_prob_matrix_\" + option1 +\".csv\")\n",
    "        prob_matrix = matrix.to_numpy()\n",
    "        pred_matrix = pop_matrix.dot(prob_matrix)\n",
    "        df = pd.DataFrame(data = pred_matrix.transpose(), columns=[\"Population\"])\n",
    "        df.insert(0, \"Age Bracket\", [\"children\", \"teen\", \"young_adult\", \"adult\", \"senior\"], True)\n",
    "        #df.to_csv('prediction/prediction_2017.csv', index=False)\n",
    "        return df, df.Population.sum()"
   ]
  },
  {
   "cell_type": "code",
   "execution_count": 17,
   "metadata": {},
   "outputs": [
    {
     "ename": "TypeError",
     "evalue": "select_model_future_pro() missing 1 required positional argument: 'option1'",
     "output_type": "error",
     "traceback": [
      "\u001b[1;31m---------------------------------------------------------------------------\u001b[0m",
      "\u001b[1;31mTypeError\u001b[0m                                 Traceback (most recent call last)",
      "\u001b[1;32m<ipython-input-17-67389cc60bbf>\u001b[0m in \u001b[0;36m<module>\u001b[1;34m\u001b[0m\n\u001b[1;32m----> 1\u001b[1;33m \u001b[0mselect_model_future_pro\u001b[0m\u001b[1;33m(\u001b[0m\u001b[1;36m2021\u001b[0m\u001b[1;33m,\u001b[0m \u001b[1;34m\"Balochistan\"\u001b[0m\u001b[1;33m)\u001b[0m\u001b[1;33m\u001b[0m\u001b[1;33m\u001b[0m\u001b[0m\n\u001b[0m",
      "\u001b[1;32m<ipython-input-16-88208337ab06>\u001b[0m in \u001b[0;36mselect_model_future_pro\u001b[1;34m(option, option1)\u001b[0m\n\u001b[0;32m     16\u001b[0m     \u001b[1;32melif\u001b[0m\u001b[1;33m(\u001b[0m\u001b[0moption\u001b[0m \u001b[1;33m==\u001b[0m \u001b[1;36m2021\u001b[0m\u001b[1;33m)\u001b[0m\u001b[1;33m:\u001b[0m\u001b[1;33m\u001b[0m\u001b[1;33m\u001b[0m\u001b[0m\n\u001b[0;32m     17\u001b[0m         \u001b[0ma\u001b[0m \u001b[1;33m=\u001b[0m \u001b[0moption1\u001b[0m\u001b[1;33m\u001b[0m\u001b[1;33m\u001b[0m\u001b[0m\n\u001b[1;32m---> 18\u001b[1;33m         \u001b[0mdata\u001b[0m \u001b[1;33m=\u001b[0m \u001b[0mselect_model_future_pro\u001b[0m\u001b[1;33m(\u001b[0m\u001b[1;33m(\u001b[0m\u001b[1;36m2019\u001b[0m\u001b[1;33m,\u001b[0m \u001b[0ma\u001b[0m\u001b[1;33m)\u001b[0m\u001b[1;33m)\u001b[0m\u001b[1;33m[\u001b[0m\u001b[1;36m0\u001b[0m\u001b[1;33m]\u001b[0m\u001b[1;33m\u001b[0m\u001b[1;33m\u001b[0m\u001b[0m\n\u001b[0m\u001b[0;32m     19\u001b[0m         \u001b[0mpop_matrix\u001b[0m \u001b[1;33m=\u001b[0m \u001b[0mdata\u001b[0m\u001b[1;33m.\u001b[0m\u001b[0mtranspose\u001b[0m\u001b[1;33m(\u001b[0m\u001b[1;33m)\u001b[0m\u001b[1;33m\u001b[0m\u001b[1;33m\u001b[0m\u001b[0m\n\u001b[0;32m     20\u001b[0m         \u001b[0mnew_header\u001b[0m \u001b[1;33m=\u001b[0m \u001b[0mpop_matrix\u001b[0m\u001b[1;33m.\u001b[0m\u001b[0miloc\u001b[0m\u001b[1;33m[\u001b[0m\u001b[1;36m0\u001b[0m\u001b[1;33m]\u001b[0m \u001b[1;31m#grab the first row for the header\u001b[0m\u001b[1;33m\u001b[0m\u001b[1;33m\u001b[0m\u001b[0m\n",
      "\u001b[1;31mTypeError\u001b[0m: select_model_future_pro() missing 1 required positional argument: 'option1'"
     ]
    }
   ],
   "source": [
    "select_model_future_pro(2021, \"Balochistan\")"
   ]
  },
  {
   "cell_type": "code",
   "execution_count": 7,
   "metadata": {},
   "outputs": [],
   "source": [
    "def model(year, province):\n",
    "    if(year == 2016):\n",
    "        import os\n",
    "        data = pd.read_csv(province+'/group/group_'+province+'_2015.csv')\n",
    "        pop_matrix = data.to_numpy()\n",
    "        matrix = pd.read_csv(province+'/final_prob_matrix_'+province+'.csv')\n",
    "        prob_matrix = matrix.to_numpy()\n",
    "        pred_matrix = pop_matrix.dot(prob_matrix)\n",
    "        df = pd.DataFrame(data = pred_matrix.transpose(), columns=[\"Population\"])\n",
    "        df.insert(0, \"Age Bracket\", [\"children\", \"teen\", \"young_adult\", \"adult\", \"senior\"], True)\n",
    "        #df.to_csv('prediction/prediction_2015.csv', index=False)\n",
    "        return df, df[\"Population\"].sum()\n",
    "    elif(year == 2017):\n",
    "        import os\n",
    "        data = model(2016, province)[0]\n",
    "        pop_matrix = data.transpose()\n",
    "        new_header = pop_matrix.iloc[0] #grab the first row for the header\n",
    "        pop_matrix = pop_matrix[1:] #take the data less the header row\n",
    "        pop_matrix.columns = new_header\n",
    "        matrix = pd.read_csv(province+'/final_prob_matrix_'+province+'.csv')\n",
    "        prob_matrix = matrix.to_numpy()\n",
    "        pred_matrix = pop_matrix.dot(prob_matrix)\n",
    "        df = pd.DataFrame(data = pred_matrix.transpose(), columns=[\"Population\"])\n",
    "        df.insert(0, \"Age Bracket\", [\"children\", \"teen\", \"young_adult\", \"adult\", \"senior\"], True)\n",
    "        #df.to_csv('prediction/prediction_2015.csv', index=False)\n",
    "        return df, df[\"Population\"].sum()\n",
    "    elif(year == 2018):\n",
    "        import os\n",
    "        data = model(2017, province)[0]\n",
    "        pop_matrix = data.transpose()\n",
    "        new_header = pop_matrix.iloc[0] #grab the first row for the header\n",
    "        pop_matrix = pop_matrix[1:] #take the data less the header row\n",
    "        pop_matrix.columns = new_header\n",
    "        matrix = pd.read_csv(province+'/final_prob_matrix_'+province+'.csv')\n",
    "        prob_matrix = matrix.to_numpy()\n",
    "        pred_matrix = pop_matrix.dot(prob_matrix)\n",
    "        df = pd.DataFrame(data = pred_matrix.transpose(), columns=[\"Population\"])\n",
    "        df.insert(0, \"Age Bracket\", [\"children\", \"teen\", \"young_adult\", \"adult\", \"senior\"], True)\n",
    "        #df.to_csv('prediction/prediction_2015.csv', index=False)\n",
    "        return df, df[\"Population\"].sum()\n",
    "    elif(year == 2019):\n",
    "        import os\n",
    "        data = model(2018, province)[0]\n",
    "        pop_matrix = data.transpose()\n",
    "        new_header = pop_matrix.iloc[0] #grab the first row for the header\n",
    "        pop_matrix = pop_matrix[1:] #take the data less the header row\n",
    "        pop_matrix.columns = new_header\n",
    "        matrix = pd.read_csv(province+'/final_prob_matrix_'+province+'.csv')\n",
    "        prob_matrix = matrix.to_numpy()\n",
    "        pred_matrix = pop_matrix.dot(prob_matrix)\n",
    "        df = pd.DataFrame(data = pred_matrix.transpose(), columns=[\"Population\"])\n",
    "        df.insert(0, \"Age Bracket\", [\"children\", \"teen\", \"young_adult\", \"adult\", \"senior\"], True)\n",
    "        #df.to_csv('prediction/prediction_2015.csv', index=False)\n",
    "        return df, df[\"Population\"].sum()\n",
    "    elif(year == 2020):\n",
    "        import os\n",
    "        data = model(2019, province)[0]\n",
    "        pop_matrix = data.transpose()\n",
    "        new_header = pop_matrix.iloc[0] #grab the first row for the header\n",
    "        pop_matrix = pop_matrix[1:] #take the data less the header row\n",
    "        pop_matrix.columns = new_header\n",
    "        matrix = pd.read_csv(province+'/final_prob_matrix_'+province+'.csv')\n",
    "        prob_matrix = matrix.to_numpy()\n",
    "        pred_matrix = pop_matrix.dot(prob_matrix)\n",
    "        df = pd.DataFrame(data = pred_matrix.transpose(), columns=[\"Population\"])\n",
    "        df.insert(0, \"Age Bracket\", [\"children\", \"teen\", \"young_adult\", \"adult\", \"senior\"], True)\n",
    "        #df.to_csv('prediction/prediction_2015.csv', index=False)\n",
    "        return df, df[\"Population\"].sum()\n",
    "    elif(year == 2021):\n",
    "        import os\n",
    "        data = model(2020, province)[0]\n",
    "        pop_matrix = data.transpose()\n",
    "        new_header = pop_matrix.iloc[0] #grab the first row for the header\n",
    "        pop_matrix = pop_matrix[1:] #take the data less the header row\n",
    "        pop_matrix.columns = new_header\n",
    "        matrix = pd.read_csv(province+'/final_prob_matrix_'+province+'.csv')\n",
    "        prob_matrix = matrix.to_numpy()\n",
    "        pred_matrix = pop_matrix.dot(prob_matrix)\n",
    "        df = pd.DataFrame(data = pred_matrix.transpose(), columns=[\"Population\"])\n",
    "        df.insert(0, \"Age Bracket\", [\"children\", \"teen\", \"young_adult\", \"adult\", \"senior\"], True)\n",
    "        #df.to_csv('prediction/prediction_2015.csv', index=False)\n",
    "        return df, df[\"Population\"].sum()\n",
    "    elif(year == 2022):\n",
    "        import os\n",
    "        data = model(2021, province)[0]\n",
    "        pop_matrix = data.transpose()\n",
    "        new_header = pop_matrix.iloc[0] #grab the first row for the header\n",
    "        pop_matrix = pop_matrix[1:] #take the data less the header row\n",
    "        pop_matrix.columns = new_header\n",
    "        matrix = pd.read_csv(province+'/final_prob_matrix_'+province+'.csv')\n",
    "        prob_matrix = matrix.to_numpy()\n",
    "        pred_matrix = pop_matrix.dot(prob_matrix)\n",
    "        df = pd.DataFrame(data = pred_matrix.transpose(), columns=[\"Population\"])\n",
    "        df.insert(0, \"Age Bracket\", [\"children\", \"teen\", \"young_adult\", \"adult\", \"senior\"], True)\n",
    "        #df.to_csv('prediction/prediction_2015.csv', index=False)\n",
    "        return df, df[\"Population\"].sum()\n",
    "    elif(year == 2023):\n",
    "        import os\n",
    "        data = model(2022, province)[0]\n",
    "        pop_matrix = data.transpose()\n",
    "        new_header = pop_matrix.iloc[0] #grab the first row for the header\n",
    "        pop_matrix = pop_matrix[1:] #take the data less the header row\n",
    "        pop_matrix.columns = new_header\n",
    "        matrix = pd.read_csv(province+'/final_prob_matrix_'+province+'.csv')\n",
    "        prob_matrix = matrix.to_numpy()\n",
    "        pred_matrix = pop_matrix.dot(prob_matrix)\n",
    "        df = pd.DataFrame(data = pred_matrix.transpose(), columns=[\"Population\"])\n",
    "        df.insert(0, \"Age Bracket\", [\"children\", \"teen\", \"young_adult\", \"adult\", \"senior\"], True)\n",
    "        #df.to_csv('prediction/prediction_2015.csv', index=False)\n",
    "        return df, df[\"Population\"].sum()\n",
    "    elif(year == 2024):\n",
    "        import os\n",
    "        data = model(2023, province)[0]\n",
    "        pop_matrix = data.transpose()\n",
    "        new_header = pop_matrix.iloc[0] #grab the first row for the header\n",
    "        pop_matrix = pop_matrix[1:] #take the data less the header row\n",
    "        pop_matrix.columns = new_header\n",
    "        matrix = pd.read_csv(province+'/final_prob_matrix_'+province+'.csv')\n",
    "        prob_matrix = matrix.to_numpy()\n",
    "        pred_matrix = pop_matrix.dot(prob_matrix)\n",
    "        df = pd.DataFrame(data = pred_matrix.transpose(), columns=[\"Population\"])\n",
    "        df.insert(0, \"Age Bracket\", [\"children\", \"teen\", \"young_adult\", \"adult\", \"senior\"], True)\n",
    "        #df.to_csv('prediction/prediction_2015.csv', index=False)\n",
    "        return df, df[\"Population\"].sum()\n",
    "    elif(year == 2025):\n",
    "        import os\n",
    "        data = model(2024, province)[0]\n",
    "        pop_matrix = data.transpose()\n",
    "        new_header = pop_matrix.iloc[0] #grab the first row for the header\n",
    "        pop_matrix = pop_matrix[1:] #take the data less the header row\n",
    "        pop_matrix.columns = new_header\n",
    "        matrix = pd.read_csv(province+'/final_prob_matrix_'+province+'.csv')\n",
    "        prob_matrix = matrix.to_numpy()\n",
    "        pred_matrix = pop_matrix.dot(prob_matrix)\n",
    "        df = pd.DataFrame(data = pred_matrix.transpose(), columns=[\"Population\"])\n",
    "        df.insert(0, \"Age Bracket\", [\"children\", \"teen\", \"young_adult\", \"adult\", \"senior\"], True)\n",
    "        #df.to_csv('prediction/prediction_2015.csv', index=False)\n",
    "        return df, df[\"Population\"].sum()"
   ]
  },
  {
   "cell_type": "code",
   "execution_count": 17,
   "metadata": {},
   "outputs": [
    {
     "data": {
      "text/plain": [
       "(   Age Bracket   Population\n",
       " 0     children  3.12983e+07\n",
       " 1         teen  1.57042e+07\n",
       " 2  young_adult  1.94502e+07\n",
       " 3        adult  3.06122e+07\n",
       " 4       senior  3.84236e+06,\n",
       " 100907199.1513691)"
      ]
     },
     "execution_count": 17,
     "metadata": {},
     "output_type": "execute_result"
    }
   ],
   "source": [
    "model(2017, \"Punjab\")"
   ]
  },
  {
   "cell_type": "code",
   "execution_count": 18,
   "metadata": {},
   "outputs": [],
   "source": [
    "a = 110012442 - 100907199.1513691"
   ]
  },
  {
   "cell_type": "code",
   "execution_count": 19,
   "metadata": {},
   "outputs": [
    {
     "data": {
      "text/plain": [
       "9105242.848630905"
      ]
     },
     "execution_count": 19,
     "metadata": {},
     "output_type": "execute_result"
    }
   ],
   "source": [
    "a"
   ]
  },
  {
   "cell_type": "code",
   "execution_count": 20,
   "metadata": {},
   "outputs": [
    {
     "data": {
      "text/plain": [
       "8.276557344878233"
      ]
     },
     "execution_count": 20,
     "metadata": {},
     "output_type": "execute_result"
    }
   ],
   "source": [
    "b = a/ 110012442\n",
    "b*100"
   ]
  },
  {
   "cell_type": "code",
   "execution_count": null,
   "metadata": {},
   "outputs": [],
   "source": []
  }
 ],
 "metadata": {
  "kernelspec": {
   "display_name": "Python 3",
   "language": "python",
   "name": "python3"
  },
  "language_info": {
   "codemirror_mode": {
    "name": "ipython",
    "version": 3
   },
   "file_extension": ".py",
   "mimetype": "text/x-python",
   "name": "python",
   "nbconvert_exporter": "python",
   "pygments_lexer": "ipython3",
   "version": "3.7.6"
  }
 },
 "nbformat": 4,
 "nbformat_minor": 4
}
