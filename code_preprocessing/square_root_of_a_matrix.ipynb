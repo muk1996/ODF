{
 "cells": [
  {
   "cell_type": "code",
   "execution_count": null,
   "metadata": {},
   "outputs": [],
   "source": [
    "import pandas as pd\n",
    "import numpy as np"
   ]
  },
  {
   "cell_type": "code",
   "execution_count": null,
   "metadata": {},
   "outputs": [],
   "source": [
    "def sqrt_matrix(filename):\n",
    "    data = pd.read_csv(filename)\n",
    "    data = data.to_numpy()\n",
    "    eigenvalue, eigenvector = np.linalg.eig(data)\n",
    "    diagonal = np.diag(eigenvalue)\n",
    "    final_matrix = eigenvector.dot(np.sqrt(diagonal)).dot(np.linalg.inv(eigenvector))\n",
    "    rows = final_matrix.shape[0]\n",
    "    cols = final_matrix.shape[1]\n",
    "    for i in range(0, rows):\n",
    "        for j in range(0, cols):\n",
    "            if(final_matrix[i,j] < 0.003):\n",
    "                final_matrix[i,j] = 0\n",
    "    df = pd.DataFrame(final_matrix, columns=[\"children\", \"teen\", \"young_adult\", \"adult\", \"senior\"])\n",
    "    return df.to_csv(filename)"
   ]
  },
  {
   "cell_type": "code",
   "execution_count": null,
   "metadata": {},
   "outputs": [],
   "source": [
    "import os\n",
    "import glob\n",
    "\n",
    "path = 'C:/Users/Mohammad Usman/Desktop/F_Y_P/province/New folder'\n",
    "extension = 'csv'\n",
    "os.chdir(path)\n",
    "result = glob.glob('*.{}'.format(extension))\n",
    "for i in result:\n",
    "    sqrt_matrix(i)"
   ]
  },
  {
   "cell_type": "markdown",
   "metadata": {},
   "source": [
    "# MAPs"
   ]
  }
 ],
 "metadata": {
  "kernelspec": {
   "display_name": "Python 3",
   "language": "python",
   "name": "python3"
  },
  "language_info": {
   "codemirror_mode": {
    "name": "ipython",
    "version": 3
   },
   "file_extension": ".py",
   "mimetype": "text/x-python",
   "name": "python",
   "nbconvert_exporter": "python",
   "pygments_lexer": "ipython3",
   "version": "3.7.6"
  }
 },
 "nbformat": 4,
 "nbformat_minor": 4
}
