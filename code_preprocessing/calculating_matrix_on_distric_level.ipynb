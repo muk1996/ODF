{
 "cells": [
  {
   "cell_type": "code",
   "execution_count": 1,
   "metadata": {},
   "outputs": [],
   "source": [
    "import pandas as pd\n",
    "import numpy as np"
   ]
  },
  {
   "cell_type": "code",
   "execution_count": 2,
   "metadata": {},
   "outputs": [],
   "source": [
    "def prob(dataset, category, lower_range, upper_range):\n",
    "    age_bin = dataset[dataset['age_bin'] == category].reset_index()\n",
    "    if(category == 'senior'):\n",
    "        age_bin_10 = age_bin[(age_bin['age'] >= lower_range)]\n",
    "    else:\n",
    "        age_bin_10 = age_bin[(age_bin['age'] >= lower_range) & (age_bin['age'] <= upper_range)]\n",
    "    data_group = age_bin_10.groupby(['age_bin'])['weights'].sum().reset_index()\n",
    "    data_group1 = age_bin.groupby(['age_bin'])['weights'].sum().reset_index()\n",
    "    a = data_group['weights'] / data_group1['weights']\n",
    "    return a"
   ]
  },
  {
   "cell_type": "code",
   "execution_count": 28,
   "metadata": {},
   "outputs": [],
   "source": [
    "def probability():\n",
    "    cat = ('children', 'teen', 'young_adult', 'adult', 'senior')\n",
    "    for x in cat:\n",
    "        if(x == 'children'):\n",
    "            result = prob(data, x, 10, 12)\n",
    "            df = pd.DataFrame(result)\n",
    "        elif(x == 'teen'):\n",
    "            result = prob(data, x, 17, 19)\n",
    "            df1 = pd.DataFrame(result)\n",
    "        elif(x == 'young_adult'):\n",
    "            result = prob(data, x, 28, 30)\n",
    "            df2 = pd.DataFrame(result)\n",
    "        elif(x == 'adult'):\n",
    "            result = prob(data, x, 63, 65)\n",
    "            df3 = pd.DataFrame(result)\n",
    "        elif(x == 'senior'):\n",
    "            result = prob(data, x, 80, 99)\n",
    "            df4 = pd.DataFrame(result)\n",
    "        else:\n",
    "            print('Category not defined') \n",
    "    frames = [df, df1, df2, df3, df4]\n",
    "    result = pd.concat(frames)\n",
    "    return result"
   ]
  },
  {
   "cell_type": "code",
   "execution_count": 29,
   "metadata": {},
   "outputs": [],
   "source": [
    "def child(filename):\n",
    "    child = pd.read_csv(filename)\n",
    "    child = data.query(\"age == 0\")[\"weights\"].sum()/data.weights.sum()\n",
    "    return child"
   ]
  },
  {
   "cell_type": "code",
   "execution_count": 30,
   "metadata": {},
   "outputs": [],
   "source": [
    "def transition_matrix(filename):\n",
    "    #field = ['weights']\n",
    "    final_data = probability()\n",
    "    #final_data = final_data.dropna()\n",
    "    matrix = final_data.to_numpy()\n",
    "    x = np.zeros((5,5))\n",
    "    rows = x.shape[0]\n",
    "    cols = x.shape[1]\n",
    "    x[2][0] = child(filename)\n",
    "    x[3][0] = child(filename)\n",
    "    for i in range(0, rows):\n",
    "        for j in range(0, cols):\n",
    "            if(i == 4 and j == 4):\n",
    "                x[i,j] = 1-matrix[i]\n",
    "            elif(i == j):\n",
    "                x[i,j] = 1-matrix[i]\n",
    "                x[i, j+1] = matrix[i]\n",
    "    df = pd.DataFrame(data=x, columns = ['children', 'teen', 'young_adult', 'adult', 'senior'])\n",
    "    #data_pro = pd.read_csv(filename)\n",
    "    #matrix_pop = data_pro.to_numpy()\n",
    "    #matrix_pop\n",
    "    #c = matrix_pop.dot(x)\n",
    "    return df.to_csv('matrix_'+ filename, index=False)"
   ]
  },
  {
   "cell_type": "code",
   "execution_count": 32,
   "metadata": {},
   "outputs": [],
   "source": [
    "import os\n",
    "import glob\n",
    "x = [2015]\n",
    "for a in x:\n",
    "    path = 'C:/Users/Mohammad Usman/Desktop/F_Y_P/dist/year_' + str(a)\n",
    "    extension = 'csv'\n",
    "    os.chdir(path)\n",
    "    result = glob.glob('*.{}'.format(extension))\n",
    "    for i in result:\n",
    "        data = pd.read_csv(i)\n",
    "        transition_matrix(i)"
   ]
  },
  {
   "cell_type": "code",
   "execution_count": null,
   "metadata": {},
   "outputs": [],
   "source": []
  }
 ],
 "metadata": {
  "kernelspec": {
   "display_name": "Python 3",
   "language": "python",
   "name": "python3"
  },
  "language_info": {
   "codemirror_mode": {
    "name": "ipython",
    "version": 3
   },
   "file_extension": ".py",
   "mimetype": "text/x-python",
   "name": "python",
   "nbconvert_exporter": "python",
   "pygments_lexer": "ipython3",
   "version": "3.7.6"
  }
 },
 "nbformat": 4,
 "nbformat_minor": 4
}
